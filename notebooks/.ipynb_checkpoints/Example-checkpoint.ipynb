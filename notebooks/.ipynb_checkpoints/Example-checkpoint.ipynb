{
 "cells": [
  {
   "cell_type": "code",
   "execution_count": 13,
   "metadata": {},
   "outputs": [],
   "source": []
  },
  {
   "cell_type": "code",
   "execution_count": 12,
   "metadata": {},
   "outputs": [
    {
     "name": "stdout",
     "output_type": "stream",
     "text": [
      "The autoreload extension is already loaded. To reload it, use:\n",
      "  %reload_ext autoreload\n"
     ]
    }
   ],
   "source": [
    "# General imports\n",
    "import numpy as np\n",
    "import torch\n",
    "import matplotlib.pylab as plt\n",
    "import time\n",
    "import torch.nn as nn\n",
    "import torch\n",
    "from torch.autograd import grad\n",
    "import numpy as np\n",
    "from scipy.io import loadmat\n",
    "\n",
    "import sys\n",
    "sys.path.append('../')\n",
    "from src.deepmod import DeepMoD_fields\n",
    "from src.training import Train_PINN\n",
    "\n",
    "%load_ext autoreload\n",
    "%autoreload 2"
   ]
  },
  {
   "cell_type": "code",
   "execution_count": 36,
   "metadata": {},
   "outputs": [
    {
     "data": {
      "text/plain": [
       "<matplotlib.image.AxesImage at 0x11f2d1e50>"
      ]
     },
     "execution_count": 36,
     "metadata": {},
     "output_type": "execute_result"
    },
    {
     "data": {
      "image/png": "[encoded data removed]",
      "text/plain": [
       "<Figure size 432x288 with 1 Axes>"
      ]
     },
     "metadata": {
      "needs_background": "light"
     },
     "output_type": "display_data"
    }
   ],
   "source": [
    "# Load the diffusion data\n",
    "\n",
    "data = loadmat('../data/Diffusion_201_100.mat')\n",
    "usol = np.real(data['Expression1'])\n",
    "usol= usol.reshape((201,100,3))\n",
    "\n",
    "x_v= usol[:,:,0]\n",
    "t_v = usol[:,:,1]\n",
    "u_v = usol[:,:,2]\n",
    "\n",
    "plt.imshow(u_v)"
   ]
  },
  {
   "cell_type": "code",
   "execution_count": 37,
   "metadata": {},
   "outputs": [],
   "source": [
    "X = np.transpose((t_v.flatten(),x_v.flatten()))\n",
    "y = np.float32(u_v.reshape((u_v.size, 1)))"
   ]
  },
  {
   "cell_type": "code",
   "execution_count": 76,
   "metadata": {},
   "outputs": [],
   "source": [
    "number_of_samples = 1000\n",
    "\n",
    "idx = np.random.permutation(y.shape[0])\n",
    "X_train = torch.tensor(X[idx, :][:number_of_samples], dtype=torch.float32, requires_grad=True)\n",
    "y_train = torch.tensor(y[idx, :][:number_of_samples], dtype=torch.float32)"
   ]
  },
  {
   "cell_type": "code",
   "execution_count": 77,
   "metadata": {},
   "outputs": [],
   "source": [
    "X = np.transpose((t_v.flatten(),x_v.flatten()))\n",
    "y = np.float32(u_v.reshape((u_v.size, 1)))"
   ]
  },
  {
   "cell_type": "code",
   "execution_count": 93,
   "metadata": {},
   "outputs": [],
   "source": [
    "def library_Diffusion(input, poly_order, diff_order):\n",
    "    \n",
    "    predict, data = input\n",
    "    prediction = predict[:,0].reshape(-1,1)\n",
    "    \n",
    "    #print(prediction.shape)\n",
    "    \n",
    "    dy = grad(prediction, data, grad_outputs=torch.ones_like(prediction), create_graph=True)[0]\n",
    "    time_deriv = dy[:, 0:1]\n",
    "    \n",
    "    du = torch.cat((torch.ones_like(time_deriv), dy[:, 1:2]), dim=1)        \n",
    "    for order in np.arange(1, diff_order):\n",
    "        du = torch.cat((du, grad(du[:, order:order+1], data, grad_outputs=torch.ones_like(prediction), create_graph=True)[0][:, 1:2]), dim=1)\n",
    "\n",
    "    u = torch.ones_like(prediction)\n",
    "    for order in np.arange(1, poly_order+1):\n",
    "        u = torch.cat((u, u[:, order-1:order] * prediction), dim=1)\n",
    "    \n",
    "   # print(du.shape)\n",
    "    samples = time_deriv.shape[0]\n",
    "    total_terms = u.shape[1] * du.shape[1]\n",
    "    \n",
    "    theta = torch.matmul(u[:, :, None], du[:, None,:]).view(samples, total_terms)\n",
    "    \n",
    "    return time_deriv, torch.cat((du[:,1].view(samples,1), du[:,2].view(samples,1)), dim=1)\n"
   ]
  },
  {
   "cell_type": "code",
   "execution_count": 79,
   "metadata": {},
   "outputs": [],
   "source": [
    "def library_1D(input, poly_order, diff_order):\n",
    "    \n",
    "    pred, data = input\n",
    "    prediction = pred[:,0].reshape(-1,1)\n",
    "    \n",
    "    dy = grad(prediction, data, grad_outputs=torch.ones_like(prediction), create_graph=True)[0]\n",
    "    time_deriv = dy[:, 0:1]\n",
    "    \n",
    "    du = torch.cat((torch.ones_like(time_deriv), dy[:, 1:2]), dim=1)        \n",
    "    for order in np.arange(1, diff_order):\n",
    "        du = torch.cat((du, grad(du[:, order:order+1], data, grad_outputs=torch.ones_like(prediction), create_graph=True)[0][:, 1:2]), dim=1)\n",
    "\n",
    "    u = torch.ones_like(prediction)\n",
    "    for order in np.arange(1, poly_order+1):\n",
    "        u = torch.cat((u, u[:, order-1:order] * prediction), dim=1)\n",
    "    \n",
    "    samples = time_deriv.shape[0]\n",
    "    total_terms = u.shape[1] * du.shape[1]\n",
    "    \n",
    "    theta = torch.matmul(u[:, :, None], du[:, None,:]).view(samples, total_terms)\n",
    "    \n",
    "    return time_deriv, theta"
   ]
  },
  {
   "cell_type": "code",
   "execution_count": 94,
   "metadata": {},
   "outputs": [],
   "source": [
    "config = {'n_in': 2, 'hidden_dims': [40, 40, 40], 'n_out': 1,'library_func': library_Diffusion, 'library_args':{'poly_order': 0, 'diff_order': 2}, 'n_samples':X_train.shape[0], 'n_outc': 2}\n",
    "model = DeepMoD_fields(**config)"
   ]
  },
  {
   "cell_type": "code",
   "execution_count": 130,
   "metadata": {},
   "outputs": [],
   "source": [
    "optimizer = torch.optim.Adam([{'params': model.network_parameters(), 'lr':0.0005},{'params': model.network_parameters_xi(), 'lr':0.001}])"
   ]
  },
  {
   "cell_type": "code",
   "execution_count": 131,
   "metadata": {},
   "outputs": [
    {
     "name": "stdout",
     "output_type": "stream",
     "text": [
      "| Iteration | Progress | Time remaining | Cost | MSE | Reg | L1\n",
      "0.00 9.76e-05 7.74e-05\n",
      "200.00 2.78e-04 2.47e-04\n",
      "400.00 1.49e-04 1.34e-04\n",
      "600.00 1.14e-04 1.00e-04\n",
      "800.00 1.04e-04 9.19e-05\n",
      "1000.00 1.02e-04 9.06e-05\n",
      "1200.00 9.99e-05 8.80e-05\n",
      "1400.00 4.88e-04 8.88e-05\n",
      "1600.00 1.24e-04 9.91e-05\n",
      "1800.00 1.38e-04 9.87e-05\n",
      "2000.00 1.05e-04 9.30e-05\n",
      "2200.00 3.76e-04 1.02e-04\n",
      "2400.00 1.26e-04 1.13e-04\n",
      "2600.00 1.12e-04 1.00e-04\n",
      "2800.00 1.14e-04 1.03e-04\n",
      "3000.00 1.11e-04 9.98e-05\n",
      "3200.00 1.15e-04 1.03e-04\n",
      "3400.00 1.16e-04 1.04e-04\n",
      "3600.00 1.24e-04 1.12e-04\n",
      "3800.00 1.19e-04 1.07e-04\n",
      "4000.00 1.17e-04 1.05e-04\n",
      "4200.00 1.22e-04 1.10e-04\n",
      "4400.00 1.19e-04 1.07e-04\n",
      "4600.00 4.83e-04 1.28e-04\n",
      "4800.00 1.39e-04 1.25e-04\n",
      "5000.00 1.36e-04 1.22e-04\n",
      "5200.00 1.38e-04 1.09e-04\n",
      "5400.00 3.62e-04 1.16e-04\n",
      "5600.00 1.71e-04 1.45e-04\n",
      "5800.00 1.32e-04 1.19e-04\n",
      "6000.00 1.27e-04 1.14e-04\n",
      "6200.00 1.28e-04 1.16e-04\n",
      "6400.00 1.29e-04 1.17e-04\n",
      "6600.00 1.27e-04 1.15e-04\n",
      "6800.00 1.41e-04 1.16e-04\n",
      "7000.00 7.29e-03 1.21e-04\n",
      "7200.00 8.82e-04 1.14e-04\n",
      "7400.00 1.51e-04 1.34e-04\n",
      "7600.00 1.40e-04 1.27e-04\n",
      "7800.00 1.37e-04 1.24e-04\n",
      "8000.00 1.34e-04 1.21e-04\n",
      "8200.00 1.40e-03 1.58e-04\n",
      "8400.00 1.47e-03 1.50e-04\n",
      "8600.00 2.88e-04 1.20e-04\n",
      "8800.00 1.57e-04 1.41e-04\n",
      "9000.00 1.54e-04 1.39e-04\n",
      "9200.00 1.45e-04 1.33e-04\n",
      "9400.00 1.37e-04 1.24e-04\n",
      "9600.00 4.66e-04 1.63e-04\n",
      "9800.00 1.90e-04 1.55e-04\n",
      "10000.00 1.52e-04 1.37e-04\n"
     ]
    }
   ],
   "source": [
    "Train_PINN(model, X_train, y_train, optimizer, 10000)"
   ]
  },
  {
   "cell_type": "code",
   "execution_count": 132,
   "metadata": {},
   "outputs": [],
   "source": [
    "X_all = torch.tensor(X, dtype=torch.float32, requires_grad=True)\n"
   ]
  },
  {
   "cell_type": "code",
   "execution_count": 133,
   "metadata": {},
   "outputs": [],
   "source": [
    "n_space, n_time = 201, 100"
   ]
  },
  {
   "cell_type": "code",
   "execution_count": 134,
   "metadata": {},
   "outputs": [
    {
     "data": {
      "text/plain": [
       "<matplotlib.image.AxesImage at 0x121f91210>"
      ]
     },
     "execution_count": 134,
     "metadata": {},
     "output_type": "execute_result"
    },
    {
     "data": {
      "image/png": "[encoded data removed]",
      "text/plain": [
       "<Figure size 432x288 with 1 Axes>"
      ]
     },
     "metadata": {
      "needs_background": "light"
     },
     "output_type": "display_data"
    }
   ],
   "source": [
    "plt.imshow(model(X_all)[0][:,0].detach().numpy().reshape(201,100))"
   ]
  },
  {
   "cell_type": "code",
   "execution_count": 135,
   "metadata": {},
   "outputs": [
    {
     "data": {
      "text/plain": [
       "<matplotlib.colorbar.Colorbar at 0x122075e50>"
      ]
     },
     "execution_count": 135,
     "metadata": {},
     "output_type": "execute_result"
    },
    {
     "data": {
      "image/png": "[encoded data removed]",
      "text/plain": [
       "<Figure size 432x288 with 2 Axes>"
      ]
     },
     "metadata": {
      "needs_background": "light"
     },
     "output_type": "display_data"
    }
   ],
   "source": [
    "plt.imshow(model(X_all)[3][:,0].detach().numpy().reshape(201,100))\n",
    "plt.colorbar()"
   ]
  },
  {
   "cell_type": "code",
   "execution_count": 136,
   "metadata": {},
   "outputs": [
    {
     "data": {
      "text/plain": [
       "[<matplotlib.lines.Line2D at 0x122105a50>]"
      ]
     },
     "execution_count": 136,
     "metadata": {},
     "output_type": "execute_result"
    },
    {
     "data": {
      "image/png": "[encoded data removed]",
      "text/plain": [
       "<Figure size 432x288 with 1 Axes>"
      ]
     },
     "metadata": {
      "needs_background": "light"
     },
     "output_type": "display_data"
    }
   ],
   "source": [
    "plt.plot(model(X_all)[3][:,1].detach().numpy().reshape(n_space, n_time)[:,1])\n",
    "plt.plot(model(X_all)[3][:,0].detach().numpy().reshape(n_space, n_time)[:,1])"
   ]
  },
  {
   "cell_type": "code",
   "execution_count": null,
   "metadata": {},
   "outputs": [],
   "source": []
  }
 ],
 "metadata": {
  "kernelspec": {
   "display_name": "Python 3",
   "language": "python",
   "name": "python3"
  },
  "language_info": {
   "codemirror_mode": {
    "name": "ipython",
    "version": 3
   },
   "file_extension": ".py",
   "mimetype": "text/x-python",
   "name": "python",
   "nbconvert_exporter": "python",
   "pygments_lexer": "ipython3",
   "version": "3.7.6"
  }
 },
 "nbformat": 4,
 "nbformat_minor": 4
}
